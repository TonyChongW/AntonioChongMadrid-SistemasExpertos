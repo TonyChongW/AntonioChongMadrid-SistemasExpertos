{
 "cells": [
  {
   "cell_type": "markdown",
   "metadata": {},
   "source": [
    "## Analizador Lexico\n",
    "Un analizador lexico transforma una entrada en tokens"
   ]
  },
  {
   "cell_type": "code",
   "execution_count": 1,
   "metadata": {},
   "outputs": [],
   "source": [
    "entrada = \" si si hoy y mañana \""
   ]
  },
  {
   "cell_type": "code",
   "execution_count": 2,
   "metadata": {},
   "outputs": [
    {
     "data": {
      "text/plain": [
       "['si', 'si', 'hoy', 'y', 'mañana']"
      ]
     },
     "execution_count": 2,
     "metadata": {},
     "output_type": "execute_result"
    }
   ],
   "source": [
    "tokens = entrada.lower().split()\n",
    "tokens"
   ]
  },
  {
   "cell_type": "code",
   "execution_count": 3,
   "metadata": {},
   "outputs": [],
   "source": [
    "from enum import Enum\n",
    "\n",
    "class TipoToken(Enum):\n",
    "    O = 1\n",
    "    Y = 2\n",
    "    S = 3\n",
    "    N = 4\n",
    "    E = 5\n",
    "    P = 6\n",
    "    F = 7"
   ]
  },
  {
   "cell_type": "code",
   "execution_count": 4,
   "metadata": {
    "vscode": {
     "languageId": "javascript"
    }
   },
   "outputs": [
    {
     "data": {
      "text/plain": [
       "[{'valor': 'si', 'tipo': <TipoToken.S: 3>},\n",
       " {'valor': 'si', 'tipo': <TipoToken.S: 3>},\n",
       " {'valor': 'hoy', 'tipo': <TipoToken.P: 6>},\n",
       " {'valor': 'y', 'tipo': <TipoToken.Y: 2>},\n",
       " {'valor': 'mañana', 'tipo': <TipoToken.P: 6>},\n",
       " {'valor': 'end', 'tipo': <TipoToken.F: 7>}]"
      ]
     },
     "execution_count": 4,
     "metadata": {},
     "output_type": "execute_result"
    }
   ],
   "source": [
    "lexemas = []\n",
    "for token in tokens:\n",
    "    if token == 'o':\n",
    "        lexemas.append({\"valor\" : token , \"tipo\": TipoToken.O })\n",
    "    elif token == 'y':\n",
    "        lexemas.append({\"valor\" : token , \"tipo\": TipoToken.Y})\n",
    "    elif token == 'si':\n",
    "        lexemas.append({\"valor\" : token , \"tipo\": TipoToken.S})\n",
    "    elif token == 'entonces':\n",
    "        lexemas.append({\"valor\" : token , \"tipo\": TipoToken.E})\n",
    "    elif token == 'no':\n",
    "        lexemas.append({\"valor\" : token , \"tipo\": TipoToken.N})\n",
    "    else :\n",
    "        lexemas.append({\"valor\" :token , \"tipo\": TipoToken.P })\n",
    "       \n",
    "lexemas.append({\"valor\" : \"end\" , \"tipo\": TipoToken.F })\n",
    "\n",
    "lexemas"
   ]
  },
  {
   "cell_type": "markdown",
   "metadata": {},
   "source": [
    "## Analizador Sintactico"
   ]
  },
  {
   "cell_type": "markdown",
   "metadata": {},
   "source": []
  },
  {
   "cell_type": "code",
   "execution_count": 5,
   "metadata": {},
   "outputs": [],
   "source": [
    "class EstadosAnalizador(Enum):\n",
    "    INICIO = 1\n",
    "    PRECEDENTE = 2\n",
    "    ERROR1 = 3\n",
    "    NEGACION = 4\n",
    "    CONSECUENTE = 5\n",
    "    ATOMO = 6\n",
    "    DISYUNCION = 7\n",
    "    CONJUNCION = 8\n",
    "    ERROR2 = 9\n",
    "    FIN = 10"
   ]
  },
  {
   "cell_type": "code",
   "execution_count": 6,
   "metadata": {},
   "outputs": [
    {
     "name": "stdout",
     "output_type": "stream",
     "text": [
      "Estado final: EstadosAnalizador.ERROR1\n"
     ]
    }
   ],
   "source": [
    "\n",
    "EstadoActual = EstadosAnalizador.INICIO\n",
    "\n",
    "for lexema in lexemas:\n",
    "    if EstadoActual == EstadosAnalizador.INICIO:\n",
    "        if lexema['tipo'] == TipoToken.S:\n",
    "            EstadoActual = EstadosAnalizador.PRECEDENTE\n",
    "        elif lexema['tipo'] == TipoToken.N:\n",
    "            EstadoActual = EstadosAnalizador.NEGACION\n",
    "        elif lexema['tipo'] == TipoToken.P:\n",
    "            EstadoActual = EstadosAnalizador.ATOMO  \n",
    "       # elif lexema\n",
    "        else:\n",
    "            EstadoActual = EstadosAnalizador.ERROR1\n",
    "    elif EstadoActual == EstadosAnalizador.PRECEDENTE:\n",
    "        if lexema['tipo'] == TipoToken.P:\n",
    "            EstadoActual = EstadosAnalizador.ATOMO\n",
    "        elif lexema['tipo'] == TipoToken.N:\n",
    "            EstadoActual = EstadosAnalizador.NEGACION\n",
    "        else:\n",
    "            EstadoActual = EstadosAnalizador.ERROR1\n",
    "    elif EstadoActual == EstadosAnalizador.NEGACION:\n",
    "        if lexema['tipo'] == TipoToken.P:\n",
    "            EstadoActual = EstadosAnalizador.ATOMO\n",
    "        else:\n",
    "            EstadoActual = EstadosAnalizador.ERROR2\n",
    "    elif EstadoActual == EstadosAnalizador.CONSECUENTE:\n",
    "        if lexema['tipo'] == TipoToken.P:\n",
    "            EstadoActual = EstadosAnalizador.ATOMO\n",
    "        elif lexema['tipo'] == TipoToken.N:\n",
    "            EstadoActual = EstadosAnalizador.NEGACION\n",
    "        else:\n",
    "            EstadoActual = EstadosAnalizador.ERROR2\n",
    "    elif EstadoActual == EstadosAnalizador.ATOMO:\n",
    "        if lexema['tipo'] == TipoToken.E:\n",
    "            EstadoActual = EstadosAnalizador.CONSECUENTE\n",
    "        elif lexema['tipo'] == TipoToken.Y:\n",
    "            EstadoActual = EstadosAnalizador.CONJUNCION\n",
    "        elif lexema['tipo'] == TipoToken.O:\n",
    "            EstadoActual = EstadosAnalizador.DISYUNCION\n",
    "        elif lexema['tipo'] == TipoToken.P:\n",
    "            EstadoActual = EstadosAnalizador.ATOMO\n",
    "        elif lexema['tipo'] == TipoToken.F:\n",
    "            EstadoActual = EstadosAnalizador.FIN\n",
    "        else:\n",
    "            EstadoActual = EstadosAnalizador.ERROR2\n",
    "    elif EstadoActual == EstadosAnalizador.CONJUNCION:\n",
    "        if lexema['tipo'] == TipoToken.P:\n",
    "            EstadoActual = EstadosAnalizador.ATOMO\n",
    "        elif lexema['tipo'] == TipoToken.N:\n",
    "            EstadoActual = EstadosAnalizador.NEGACION\n",
    "        else:\n",
    "            EstadoActual = EstadosAnalizador.ERROR2\n",
    "    elif EstadoActual == EstadosAnalizador.DISYUNCION:\n",
    "        if lexema['tipo'] == TipoToken.P:\n",
    "            EstadoActual = EstadosAnalizador.ATOMO\n",
    "        elif lexema['tipo'] == TipoToken.N:\n",
    "            EstadoActual = EstadosAnalizador.NEGACION\n",
    "        else:\n",
    "            EstadoActual = EstadosAnalizador.ERROR2\n",
    "    elif EstadoActual == EstadosAnalizador.ERROR1:\n",
    "        break\n",
    "    elif EstadoActual == EstadosAnalizador.ERROR2:\n",
    "        break\n",
    "    elif EstadoActual == EstadosAnalizador.FIN:\n",
    "        break\n",
    "\n",
    "print(\"Estado final:\", EstadoActual)"
   ]
  },
  {
   "cell_type": "code",
   "execution_count": 7,
   "metadata": {},
   "outputs": [
    {
     "name": "stdout",
     "output_type": "stream",
     "text": [
      "EstadosAnalizador.ERROR1\n"
     ]
    }
   ],
   "source": [
    "print(EstadoActual)"
   ]
  },
  {
   "cell_type": "code",
   "execution_count": null,
   "metadata": {},
   "outputs": [],
   "source": []
  }
 ],
 "metadata": {
  "kernelspec": {
   "display_name": ".venv",
   "language": "python",
   "name": "python3"
  },
  "language_info": {
   "codemirror_mode": {
    "name": "ipython",
    "version": 3
   },
   "file_extension": ".py",
   "mimetype": "text/x-python",
   "name": "python",
   "nbconvert_exporter": "python",
   "pygments_lexer": "ipython3",
   "version": "3.11.2"
  }
 },
 "nbformat": 4,
 "nbformat_minor": 2
}
